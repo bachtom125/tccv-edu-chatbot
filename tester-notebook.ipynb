{
 "cells": [
  {
   "cell_type": "code",
   "execution_count": null,
   "metadata": {},
   "outputs": [
    {
     "name": "stdout",
     "output_type": "stream",
     "text": [
      "First intialization\n"
     ]
    }
   ],
   "source": [
    "import pinecone\n",
    "from pinecone import Pinecone\n",
    "from langchain_openai import ChatOpenAI\n",
    "from langchain_google_genai import ChatGoogleGenerativeAI\n",
    "from pipeline.embeddings import HuggingFaceEmbeddings\n",
    "from langchain.prompts import PromptTemplate\n",
    "from langchain_core.runnables import RunnableSequence, RunnableLambda\n",
    "from langchain_pinecone import PineconeVectorStore\n",
    "import re\n",
    "import os\n",
    "from dotenv import load_dotenv\n",
    "from langchain.callbacks.base import AsyncCallbackHandler\n",
    "import asyncio\n",
    "from typing import AsyncGenerator\n",
    "from pipeline.utils import duckduckgo_search\n",
    "\n",
    "class StreamingCallback(AsyncCallbackHandler):\n",
    "    def __init__(self):\n",
    "        self.queue = asyncio.Queue()\n",
    "\n",
    "    async def on_llm_new_token(self, token: str, **kwargs):\n",
    "        await self.queue.put(token)\n",
    "\n",
    "    async def on_llm_end(self, response, **kwargs):\n",
    "        await self.queue.put(None)  # Stop signal\n",
    "\n",
    "    async def token_generator(self):\n",
    "        while True:\n",
    "            token = await self.queue.get()\n",
    "            if token is None:\n",
    "                break\n",
    "            yield token\n",
    "\n",
    "load_dotenv()\n",
    "PINECONE_API = os.getenv(\"PINECONE_API_KEY\")\n",
    "OPENAI_API = os.getenv(\"OPENAI_API_KEY\")\n",
    "GOOGLE_API = os.getenv(\"GOOGLE_API_KEY\")\n",
    "# HUGGINGFACE_API = os.getenv(\"HUGGINGFACE_API_KEY\")\n",
    "\n",
    "# Initialize Pinecone\n",
    "pinecone = Pinecone(api_key=PINECONE_API)\n",
    "chunk_index = pinecone.Index(\"education-file-chunks\")\n",
    "file_info_index = pinecone.Index(\"education-file-info\")\n",
    "\n",
    "# Use your custom embeddings class\n",
    "embedding_model = HuggingFaceEmbeddings()\n",
    "\n",
    "# Create a vector store for chunks\n",
    "chunk_vectorstore = PineconeVectorStore(\n",
    "    index=chunk_index, \n",
    "    embedding=embedding_model, \n",
    "    text_key='text'\n",
    ")\n",
    "\n",
    "# Create a vector store for file info (summaries)\n",
    "file_info_vectorstore = PineconeVectorStore(\n",
    "    index=file_info_index, \n",
    "    embedding=embedding_model, \n",
    "    text_key='file_path'\n",
    ")\n",
    "\n",
    "# Chain to use the LLM with the prompt\n",
    "llm_for_query = ChatGoogleGenerativeAI(\n",
    "    model=\"gemini-2.0-flash\",\n",
    "    google_api_key=GOOGLE_API\n",
    ")\n",
    "\n",
    "llm_for_response = ChatGoogleGenerativeAI(\n",
    "    model=\"gemini-2.0-flash\",\n",
    "    google_api_key=GOOGLE_API,\n",
    "    streaming=True  # Enable streaming\n",
    ")\n",
    "\n",
    "# CONFIG\n",
    "NUM_FILE_TO_FETCH = 3\n",
    "NUM_CHUNK_TO_FETCH_PER_FILE = 3\n",
    "\n",
    "def query_vectorstore(vectorstore: PineconeVectorStore, user_query: str, top_k: int = 3, **kwargs):\n",
    "    # Step 1: Query Pinecone\n",
    "    results = vectorstore.similarity_search(user_query, k=top_k, **kwargs)\n",
    "    if not results:\n",
    "        return \"No relevant results found.\"\n",
    "\n",
    "    return results\n",
    "\n",
    "def query_for_file(user_query: str, top_k: int = 3):\n",
    "    \"\"\"\n",
    "    Query the vector store for file info (summaries) and return the top_k file_paths and file_urls.\n",
    "    \"\"\"\n",
    "    query_res = query_vectorstore(file_info_vectorstore, user_query, top_k)\n",
    "\n",
    "    file_info = [(doc.page_content, doc.metadata['url']) for doc in query_res]\n",
    "    return file_info \n",
    "\n",
    "def query_for_chunks(user_query: str, file_ids: list[str], top_k: int = 3):\n",
    "    \"\"\"\n",
    "    Given the target file_ids, query the vector store for top_k chunks FOR EACH FILE.\n",
    "    \"\"\"\n",
    "\n",
    "    # Pass a filter to restrict the search to the identified files.\n",
    "    final_chunks = []\n",
    "    for file_id in file_ids:\n",
    "        query_res = query_vectorstore(chunk_vectorstore, user_query, top_k, filter={\"file_path\": file_id})\n",
    "        chunks = [doc.page_content for doc in query_res]\n",
    "        final_chunks.extend(chunks)\n",
    "    return final_chunks\n",
    "\n",
    "def parse_input(messages):\n",
    "    assistant_responses = []\n",
    "    user_messages = []\n",
    "\n",
    "    for msg in messages:\n",
    "        role = msg[\"role\"].capitalize()  # Capitalize role for formatting\n",
    "        content = msg[\"content\"]\n",
    "        \n",
    "        if role == \"Assistant\":\n",
    "            assistant_responses.append(f\"Assistant's Response: {content}\")\n",
    "            # parsed_output.append(f\"Assistant's Response: {content}\")\n",
    "        elif role == \"User\":\n",
    "            user_messages.append(f\"User's Message: {content}\")\n",
    "            # parsed_output.append(f\"User's Message: {content}\")\n",
    "    \n",
    "    if len(assistant_responses) == 0:\n",
    "      assistant_responses.append(\"\")\n",
    "    if len(user_messages) == 0:\n",
    "      user_messages.append(\"User's Message: \\\"\")\n",
    "\n",
    "    return \"\\n\".join(user_messages[:-1]) + f\"\\n{assistant_responses[-1]}\", user_messages[-1][len(\"User's Message: \"):]\n",
    "    \n",
    "# Define the prompt template\n",
    "query_prompt_template = PromptTemplate(\n",
    "    input_variables=[\"user_query\", \"past_messages\"],\n",
    "    template=(\n",
    "        \"You are an advanced query assistant with expertise in carbon credits fluent in both English and Vietnamese.\"\n",
    "        \"Given past messages between the user and the system, and user's current query, construct a meaningful, natural language, contextually complete representation of the current query that can be vectorized for semantic similarity search.\"\n",
    "        \"Ensure the query is well-structured, includes all relevant information needed, and is cleaned of special characters and converted to lowercase. \\n\\n\"\n",
    "        \"Past Messages: {past_messages}\\n\"\n",
    "        \"User Input: {user_query}\\n\"\n",
    "        \"Construct the query in the following format:\\n\\n\"\n",
    "        \"Constructed Query:\\n\"\n",
    "    )\n",
    ")\n",
    "\n",
    "# Define a prompt for response generation\n",
    "response_generation_prompt = PromptTemplate(\n",
    "    input_variables=[\"context\", \"user_query\", \"refined query\", \"consulted_files\", \"past_messages\"],\n",
    "    template=(\n",
    "        \"You are an expert in carbon credits working for the company Tín Chỉ Carbon Việt Nam (TCCV), you are fluent in both English and Vietnamese. Based on the following context and past messages between the user and you, respond to the user's query. Try to give a long response that is as detailed and informative as possible while still being factual and on-topic. Also, respond in the same language the user query is in, regardless of the language of the context and everything else. Reference the consulted files and the DuckDuckGo search results (only those you use), reference each of them directly in the points in your response influenced by them, don't reference any one you don't use. For both types of reference, extract the title and the link, and then use hyperlink format: [link/file name](link/file url), for example [Tín chỉ các bon là gì?](https://vnce.vn/tin-chi-carbon-la-gi). Also, if you can, make it so that when the user clicks on that link, it opens in a new tab. If multiple consecutive points uses the same source, reference it only once at the end of those points.:\\n\\n\"\n",
    "        \"Context: {context}\\n\\n\"\n",
    "        \"Past Messages: {past_messages}\\n\\n\"\n",
    "        \"User Query: {user_query}\\n\\n\"\n",
    "        \"Refined Query: {refined_query}\\n\\n\"\n",
    "        \"Consulted Files: {consulted_files}\\n\\n\"\n",
    "        \"Response:\"\n",
    "    )\n",
    ")\n",
    "def debug_step(name, inputs):\n",
    "    \"\"\"Debug function to print the state of variables.\"\"\"\n",
    "    print(f\"{name}: {inputs}\")\n",
    "    return inputs\n",
    "\n",
    "async def stream_llm_response(inputs) -> AsyncGenerator[str, None]:\n",
    "    \"\"\"Convert the synchronous iterator into an asynchronous generator.\"\"\"\n",
    "    \n",
    "    sync_iterator = llm_for_response.stream(inputs[\"response_prompt\"])\n",
    "    \n",
    "    for chunk in sync_iterator:\n",
    "        await asyncio.sleep(0)  # Yield control to the event loop\n",
    "        yield chunk.content  # Extract and yield the actual text content\n",
    "\n",
    "def refine_query(inputs):\n",
    "    \"\"\"Refine the user query using llm_for_query and the query prompt.\"\"\"\n",
    "    match = re.search(\n",
    "        r\"Constructed Query:\\s*(.+)\",\n",
    "        llm_for_query.predict(query_prompt_template.format(\n",
    "            user_query=inputs[\"user_query\"], \n",
    "            past_messages=inputs[\"past_messages\"]\n",
    "        ))\n",
    "    )\n",
    "    \n",
    "    refined_query = match.group(1).strip() if match else inputs[\"user_query\"]\n",
    "    return {\n",
    "        \"refined_query\": refined_query,\n",
    "        \"user_query\": inputs[\"user_query\"],\n",
    "        \"past_messages\": inputs[\"past_messages\"]\n",
    "    }\n",
    "\n",
    "def retrieve_file_ids(inputs):\n",
    "    \"\"\"Retrieve file IDs using the refined query.\"\"\"\n",
    "\n",
    "    file_info = query_for_file(\n",
    "            user_query=inputs[\"refined_query\"],\n",
    "            top_k=NUM_FILE_TO_FETCH)\n",
    "    return {\n",
    "        \"file_info\": file_info,\n",
    "        \"user_query\": inputs[\"user_query\"],\n",
    "        \"refined_query\": inputs[\"refined_query\"],\n",
    "        \"past_messages\": inputs[\"past_messages\"]\n",
    "    }\n",
    "\n",
    "def retrieve_chunks(inputs):\n",
    "    \"\"\"For the retrieved file IDs, query for the best matching chunks.\"\"\"\n",
    "    file_ids = [file[0] for file in inputs[\"file_info\"]]\n",
    "    file_urls = [file[1] for file in inputs[\"file_info\"]]\n",
    "    return {\n",
    "        \"chunks\": query_for_chunks(\n",
    "            user_query=inputs[\"refined_query\"],\n",
    "            file_ids=file_ids,\n",
    "            top_k=NUM_CHUNK_TO_FETCH_PER_FILE\n",
    "        ),\n",
    "        \"user_query\": inputs[\"user_query\"],\n",
    "        \"refined_query\": inputs[\"refined_query\"],\n",
    "        \"consulted_files\": inputs['file_info'],\n",
    "        \"past_messages\": inputs[\"past_messages\"]\n",
    "    }\n",
    "\n",
    "def aggregate_context(inputs):\n",
    "    \"\"\"Aggregate the retrieved chunks and perform a web search for additional context.\"\"\"\n",
    "    return {\n",
    "        \"context\": \"\\n\".join(inputs[\"chunks\"]) + \"\\n\\n\" + \n",
    "                    \"**Additional Context from DuckDuckGo Web Search:**\\n\" + \n",
    "                    str(duckduckgo_search(inputs[\"refined_query\"], max_results=3)),\n",
    "        \"user_query\": inputs[\"user_query\"],\n",
    "        \"refined_query\": inputs[\"refined_query\"],\n",
    "        \"consulted_files\": inputs[\"consulted_files\"],\n",
    "        \"past_messages\": inputs[\"past_messages\"]\n",
    "    }\n",
    "\n",
    "def generate_response_prompt(inputs):\n",
    "    \"\"\"Generate the final response using the aggregated context.\"\"\"\n",
    "    return {\n",
    "        \"response_prompt\": response_generation_prompt.format(\n",
    "            context=inputs[\"context\"],\n",
    "            user_query=inputs[\"user_query\"],\n",
    "            refined_query=inputs[\"refined_query\"],\n",
    "            consulted_files=inputs[\"consulted_files\"],\n",
    "            past_messages=inputs[\"past_messages\"]\n",
    "        ),\n",
    "        \"consulted_files\": inputs[\"consulted_files\"],\n",
    "        \"refined_query\": inputs[\"refined_query\"]\n",
    "    }\n",
    "\n",
    "def full_workflow(user_query, past_messages):\n",
    "    \"\"\"Execute the entire workflow step by step.\"\"\"\n",
    "    inputs = {\"user_query\": user_query, \"past_messages\": past_messages}\n",
    "    \n",
    "    inputs = refine_query(inputs)\n",
    "    # debug_step(\"After Query Formatting\", inputs)\n",
    "    \n",
    "    inputs = retrieve_file_ids(inputs)\n",
    "    # debug_step(\"After Finding Files\", inputs)\n",
    "    \n",
    "    inputs = retrieve_chunks(inputs)\n",
    "    # debug_step(\"After Finding Chunks\", inputs)\n",
    "    \n",
    "    inputs = aggregate_context(inputs)\n",
    "    # debug_step(\"After Aggregating\", inputs)\n",
    "    \n",
    "    inputs = generate_response_prompt(inputs)\n",
    "    \n",
    "    return stream_llm_response(inputs)\n",
    "print(\"First intialization\")"
   ]
  },
  {
   "cell_type": "code",
   "execution_count": 2,
   "metadata": {},
   "outputs": [
    {
     "name": "stderr",
     "output_type": "stream",
     "text": [
      "/tmp/ipykernel_897/3084650764.py:175: LangChainDeprecationWarning: The method `BaseChatModel.predict` was deprecated in langchain-core 0.1.7 and will be removed in 1.0. Use :meth:`~invoke` instead.\n",
      "  llm_for_query.predict(query_prompt_template.format(\n"
     ]
    },
    {
     "name": "stdout",
     "output_type": "stream",
     "text": [
      "After Query Formatting: {'refined_query': 'giải thích quy trình chi tiết từ trồng lúa đến tạo ra tín chỉ carbon như thế nào', 'user_query': 'Hãy giải thích cụ thể quy trình từ việc trồng lúa đến làm tín chỉ carbon', 'past_messages': [{'role': 'system', 'content': 'You are an AI assistant that helps users retrieve relevant information from documents and external sources.'}]}\n",
      "After Finding Files: {'file_info': [('4. Phần 4: Làm Sao Để Giao Dịch Tín Chỉ Carbon? /9. Chapter 9: Quy trình giao dịch tín chỉ carbon/Demystifying carbon markets - a complete guide to developing carbon credit projects.en.vi.pdf', 'https://drive.google.com/file/d/1Ih5sqGPEYLULomCAvbAAycOZ6Zkf8TfE/view?usp=sharing'), ('3. Phần 3: Làm Sao Để Thành Lập Dự Án Tín Chỉ Carbon? /7. Chương 7: Các bước để thiết lập tín chỉ carbon/Reported by TCCV - Chap 7', 'https://drive.google.com/file/d/1GkOt1L8ii_E2gmebpCtgwo_jZdzoqhaMqUIGWwB-HNY/view?usp=sharing'), ('5. Phần 5: Các Dự Án Tín Chỉ Carbon Tự Nhiên/14. Chapter 14: Agricultural Land Management (ALM)/Tín chỉ carbon, cơ hội và thách thức cho sản xuất nông nghiệp', 'https://drive.google.com/file/d/1-ii7AI7Iv-H3VMaQso5wvEctzobpokcJoy5UhHMkCMg/view?usp=sharing')], 'user_query': 'Hãy giải thích cụ thể quy trình từ việc trồng lúa đến làm tín chỉ carbon', 'refined_query': 'giải thích quy trình chi tiết từ trồng lúa đến tạo ra tín chỉ carbon như thế nào', 'past_messages': [{'role': 'system', 'content': 'You are an AI assistant that helps users retrieve relevant information from documents and external sources.'}]}\n",
      "After Finding Chunks: {'chunks': ['nếu bạn là nhà sản xuất nhỏ hơn mức tối đa bạn có thể mong đợi là một dòng thu nhập khiêm tốn là sự khác biệt giữa việc thua lỗ hoặc đủ lợi nhuận để thu hút các nhà đầu tư và khiến dự án của bạn khả thi bạn sẽ phải làm việc chăm chỉ để được hưởng lợi từ tín dụng carbon tín dụng carbon không phải là tiền mặt nhanh chóng việc chứng nhận và bán tín dụng sẽ khiến một doanh nhân mất nhiều năm làm việc chăm chỉ mặc dù một số nhà phát triển dự án và cố vấn có thể tuyên bố rằng họ có thể cấp chứng nhận cho dự án của bạn trong vòng một năm nhưng toàn bộ quy trình từ thời điểm đầu tiên nghĩ đến tín chỉ carbon cho đến khi bán được tín chỉ đầu tiên của bạn có thể mất vài năm chỉ riêng việc hiểu thị trường và ngành công nghiệp cũng như các khái niệm cơ bản của nó có thể mất vài tuần hoặc vài tháng sau đó có thể mất thêm vài tháng nữa trước khi bạn tìm được đúng người hỗ trợ bạn thực hiện kiểm tra khả thi nhanh chóng chứng nhận dự án của bạn và tìm kiếm khách hàng', 'xét tất cả những điều này công thức là sản xuất tín chỉ carbon khu vực dự án x khí thải rò rỉ khí thải từ thảm thực vật bị loại bỏs 1 số cây sxco 2hấp thụ dự án nếu có hiện tượng tỉa thưa và khai thác cây có chọn lọc điều này có thể được tính vào công thức này bằng cách trừ số lượng cây được khai thác khỏi số lượng cây được trồng hoặc bằng cách cộng số cây bị chặt bỏ vào lượng khí thải từ thảm thực vật bị chặt bỏ ví dụ chúng ta hãy xem xét một khu rừng mà chúng ta trồng các loài a và b loài a hấp thụ 1kg co2 2mỗi năm trong năm đầu tiên và 2 kg mỗi năm sau đó cho đến khi trưởng thành vào năm thứ 60 loài b hấp thụ 2 kg trong năm năm đầu tiên và 3 kg mỗi năm sau đó cho đến khi trưởng thành vào năm thứ 50 nếu tôi trồng 1000 cây của mỗi loại tôi sẽ có tổng sản lượng tín chỉ là 1000 cây loại a x 1 59x2 1000 cây loại b x 5x3 45x3 269 000kg co2 2tổng cộng trong đó chúng ta phải trừ đi lượng khí thải do máy kéo làm đất v v tuy nhiên trên thực tế không phải tất cả các cây đều được trồng trong năm đầu tiên', 'tín dụng carbon có thể đóng vai trò quan trọng trong quá trình này vì chúng có thể tạo ra thu nhập từ lâu trước khi diễn ra đợt bán gỗ đầu tiên đặc biệt là thông qua tín dụng trước trong bối cảnh tín chỉ carbon cái thường được gọi là nông lâm kết hợp cũng nằm trong hoạt động trồng rừng đây là việc đưa cây vào đất nông nghiệp để trồng xen kẽ giữa các vụ mùa hoặc trồng cây lấy hạt như cây điều rõ ràng trong trường hợp này người ta cần chứng minh rằng chỉ riêng cây lấy hạt không đủ lợi nhuận để trả tiền cho việc trồng trọt để tuân thủ nguyên tắc bổ sung tái trồng rừng tái trồng rừng mô tả việc trồng cây trên đất từng là rừng hoặc hiện là rừng bị thoái hóa do khai thác than củi hoặc khai thác gỗ thương mại mặc dù thuật ngữ này khác nhau tái trồng rừng thường được xử lý theo cùng một cách như trồng rừng đó là lý do tại sao chúng có xu hướng được đề cập cùng nhau trong tài liệu thương mại bạn sẽ thường xuyên bắt gặp các tài liệu tham khảo về các dự án a r hoặc ar', 'bản anh hoàng minh cách tạo lập tín chỉ carbon how to earn carbon credits article quy trình để sở hữu tín chỉ carbon thường rắc rối và dễ bị nhầm lẫn bài viết này xem xét cách các nhà phát triển dự án có thể tạo ra được tín dụng carbon bằng cách đăng ký hoạt động của họ thành một dự án giảm khí thải mặc dù các chi tiết cụ thể cho từng dự án có thể khác nhau nhưng nhìn chung một chu trình dự án để sở hữu tín chỉ carbon sẽ diễn ra như dưới đây trong bài viết này chúng ta sẽ khám phá các giai đoạn chính của chu kỳ này làm thế nào chủ dự án có thể tạo ra tín chỉ carbon để nhận được tín chỉ carbon một dự án phải được xác minh độc lập là giảm hoặc loại bỏ khí nhà kính ghg khỏi khí quyển quá trình này có thể phức tạp và đòi hỏi phải sử dụng các phương pháp và quy trình chuyên biệt để đảm bảo tính chính xác và toàn vẹn của tín chỉ carbon chu trình dự án carbon phác thảo một hành trình có hệ thống mà các nhà phát triển dự án thực hiện để sở hữu được tín chỉ carbon thể hiện những đóng góp của họ cho môi trường bền vững dưới đây chúng ta sẽ đi vào khám phá chi tiết từng bước trong chu trình này', 'phát triển một dự án tín chỉ carbon là một quá trình gồm nhiều bước yêu cầu lập kế hoạch cẩn thận xác minh và triển khai đúng cách hướng dẫn này sẽ cung cấp từng bước chi tiết để giúp bạn hiểu cách phát triển một dự án tín chỉ carbon và các yếu tố quan trọng để thực hiện thành công ________________ 2 hiểu về tín chỉ carbon trước khi bắt đầu cần hiểu rõ tín chỉ carbon là gì và tại sao chúng quan trọng một tín chỉ carbon là một giấy phép có thể giao dịch cho phép chủ sở hữu phát thải một lượng carbon dioxide hoặc các khí nhà kính ghg khác thông thường một tín chỉ tương đương với một tấn co₂ các dự án giúp giảm hoặc loại bỏ khí thải như trồng rừng năng lượng tái tạo hoặc cải thiện hiệu suất năng lượng có thể tạo ra tín chỉ carbon ________________ 3 các bước phát triển dự án tín chỉ carbon bước 1 xác định dự án giảm phát thải carbon dự án tín chỉ carbon cần liên quan đến một hoạt động có thể giảm hoặc cô lập khí thải một số loại dự án phổ biến dự án lâm nghiệp trồng rừng trồng mới hoặc bảo vệ rừng để hấp thụ co₂ dự án năng lượng tái tạo phát triển năng lượng mặt trời gió thủy điện để thay thế nhiên liệu hóa thạch', 'đây là một bước quan trọng để đảm bảo rằng tín chỉ carbon được phát hành hợp lệ minh bạch và có thể giao dịch trên thị trường 1 thu thập dữ liệu lựa chọn phương pháp đo lường thích hợp cần xác định phương pháp đo lường và tính toán phát thải dựa trên loại dự án và tiêu chuẩn chứng nhận ví dụ dự án năng lượng tái tạo có thể sử dụng đồng hồ đo sản lượng điện để xác định mức giảm co₂ do thay thế năng lượng hóa thạch dự án trồng rừng có thể sử dụng công nghệ ảnh vệ tinh cảm biến từ xa hoặc kiểm kê rừng để xác định lượng co₂ hấp thụ cài đặt hệ thống giám sát bao gồm thiết bị đo lường tự động phần mềm thu thập dữ liệu theo thời gian thực cảm biến đo nồng độ khí co₂ hoặc các phần mềm theo dõi phát thải ghi chép và lưu trữ dữ liệu cần có hệ thống ghi nhận dữ liệu chi tiết theo từng mốc thời gian đảm bảo dữ liệu chính xác có thể truy xuất và minh bạch cho các đợt xác minh 2 xác minh hàng năm chuẩn bị báo cáo giám sát hằng năm dự án cần lập báo cáo giám sát bao gồm lượng khí thải giảm thực tế trong năm bất kỳ sự thay đổi nào về phương pháp đo lường hoặc thiết bị giám sát', 'xuống giống cho cánh đồng tham gia đề án canh tác 1 triệu ha lúa chất lượng cao tại đbscl giá carbon mua bán trao đổi tín chỉ carbon và những điều cần lưu ý để tạo ra 1 tín chỉ carbon hay 1 cert thì chủ doanh nghiệp hay nông dân cần phải áp dụng một hay nhiều giải pháp giảm phát thải knk so với cách làm thông thường của họ ví dụ như trong nông nghiệp có thể áp dụng giải pháp trồng rừng so với để đất trống cải tạo phục hồi rừng để tạo ra năng suất rừng cao hơn so với năng suất rừng hiện tại tưới khô ướt xen kẽ cho lúa so với ngập thường xuyên hoặc rút nước giữa vụ chuyển đổi đất lúa kém hiệu quả sang trồng màu trồng lúa nuôi tôm cải tạo khẩu phần ăn gia súc quản lý tốt hơn phân gia súc tuần hoàn chất thải vật nuôi và các loại phụ phẩm trồng trọt và việc áp dụng công nghệ giảm phát thải cần phải được đầu tư về mặt công nghệ xây dựng cơ sở hạ tầng vận hành hệ thống ví dụ để giảm phát thải khí mê tan từ canh tác lúa thì nhà nước và nhân dân phải đầu tư rất nhiều vào xây dựng hệ thống tưới tiêu chính xác hệ thống điều tiết nước hay phải có những nhà máy xử lý chất thải và phụ phẩm cây trồng', 'đây là một cơ hội cho những đơn vị có mức phát thải thấp tham gia vào trao đổi tín chỉ carbon bằng cách áp dụng các giải pháp giảm phát thải knk nhưng cũng là thách thức lớn đối với các đơn vị có mức phát thải cao sẽ phải thực hiện báo cáo phát thải hàng năm và thực hiện chặt chẽ kế hoạch giảm phát thải của mình đòi hỏi sự đầu tư đáng kể về công nghệ vậy để đạt được tín chỉ carbon thì doanh nghiệp cần phải làm gì đặc biệt là với sản xuất nông nghiệp đây có thực sự là cơ hội và làm thế nào để tạo ra tín chỉ carbon một cách tối ưu nhất vì tín chỉ carbon là lượng co2tđ được giảm phát thải hoặc loại bỏ hay là sản phẩm của các quá trình áp dụng biện pháp giảm phát thải knk lưu trữ carbon nên để đạt được tín chỉ carbon thì chúng ta cần phải chú trọng đến các hoạt động giảm phát thải knk và lưu trữ carbon các nguồn phát thải và giài pháp giảm phát thải knk trong nông nghiệp', 'loại thứ 1 là hạn ngạch phát thải knk chính phủ sẽ phân bổ và doanh nghiệp có quyền phát thải trong hạn ngạch mình sở hữu còn phát thải thêm thì phải mua hạn ngạch từ các doanh nghiệp khác giá hạn ngạch thường rất cao có thể lên đến 100 euro tấn loại thứ 2 là tín chỉ carbon mang tính chất tự nguyện khi doanh nghiệp đầu tư vào những mô hình kinh doanh giảm phát thải như trồng rừng thì các cơ quan quản lý phê duyệt thẩm định lượng giảm đó sẽ tạo ra được tín chỉ carbon tín chỉ đó vì mang tính tự nguyện nên giá thấp hơn nhiều dao động từ 1 đến 25 usd tấn tùy vào loại hình công nghệ và mức đầu tư để thực hiện cam kết với quốc tế về lộ trình đạt được phát thải ròng bằng 0 vào năm 2050 và lộ trình giảm 30 phát thải khí mê tan vào năm 2030 so với năm 2020 thì chính phủ đã ra nghị định số 06 2022 nđ cp quy định giảm nhẹ phát thải knk và bảo vệ tầng ô zôn với lộ trình đưa thị trường carbon đi vào hoạt động từ năm 2028'], 'user_query': 'Hãy giải thích cụ thể quy trình từ việc trồng lúa đến làm tín chỉ carbon', 'refined_query': 'giải thích quy trình chi tiết từ trồng lúa đến tạo ra tín chỉ carbon như thế nào', 'consulted_files': [('4. Phần 4: Làm Sao Để Giao Dịch Tín Chỉ Carbon? /9. Chapter 9: Quy trình giao dịch tín chỉ carbon/Demystifying carbon markets - a complete guide to developing carbon credit projects.en.vi.pdf', 'https://drive.google.com/file/d/1Ih5sqGPEYLULomCAvbAAycOZ6Zkf8TfE/view?usp=sharing'), ('3. Phần 3: Làm Sao Để Thành Lập Dự Án Tín Chỉ Carbon? /7. Chương 7: Các bước để thiết lập tín chỉ carbon/Reported by TCCV - Chap 7', 'https://drive.google.com/file/d/1GkOt1L8ii_E2gmebpCtgwo_jZdzoqhaMqUIGWwB-HNY/view?usp=sharing'), ('5. Phần 5: Các Dự Án Tín Chỉ Carbon Tự Nhiên/14. Chapter 14: Agricultural Land Management (ALM)/Tín chỉ carbon, cơ hội và thách thức cho sản xuất nông nghiệp', 'https://drive.google.com/file/d/1-ii7AI7Iv-H3VMaQso5wvEctzobpokcJoy5UhHMkCMg/view?usp=sharing')], 'past_messages': [{'role': 'system', 'content': 'You are an AI assistant that helps users retrieve relevant information from documents and external sources.'}]}\n",
      "After Aggregating: {'context': \"nếu bạn là nhà sản xuất nhỏ hơn mức tối đa bạn có thể mong đợi là một dòng thu nhập khiêm tốn là sự khác biệt giữa việc thua lỗ hoặc đủ lợi nhuận để thu hút các nhà đầu tư và khiến dự án của bạn khả thi bạn sẽ phải làm việc chăm chỉ để được hưởng lợi từ tín dụng carbon tín dụng carbon không phải là tiền mặt nhanh chóng việc chứng nhận và bán tín dụng sẽ khiến một doanh nhân mất nhiều năm làm việc chăm chỉ mặc dù một số nhà phát triển dự án và cố vấn có thể tuyên bố rằng họ có thể cấp chứng nhận cho dự án của bạn trong vòng một năm nhưng toàn bộ quy trình từ thời điểm đầu tiên nghĩ đến tín chỉ carbon cho đến khi bán được tín chỉ đầu tiên của bạn có thể mất vài năm chỉ riêng việc hiểu thị trường và ngành công nghiệp cũng như các khái niệm cơ bản của nó có thể mất vài tuần hoặc vài tháng sau đó có thể mất thêm vài tháng nữa trước khi bạn tìm được đúng người hỗ trợ bạn thực hiện kiểm tra khả thi nhanh chóng chứng nhận dự án của bạn và tìm kiếm khách hàng\\nxét tất cả những điều này công thức là sản xuất tín chỉ carbon khu vực dự án x khí thải rò rỉ khí thải từ thảm thực vật bị loại bỏs 1 số cây sxco 2hấp thụ dự án nếu có hiện tượng tỉa thưa và khai thác cây có chọn lọc điều này có thể được tính vào công thức này bằng cách trừ số lượng cây được khai thác khỏi số lượng cây được trồng hoặc bằng cách cộng số cây bị chặt bỏ vào lượng khí thải từ thảm thực vật bị chặt bỏ ví dụ chúng ta hãy xem xét một khu rừng mà chúng ta trồng các loài a và b loài a hấp thụ 1kg co2 2mỗi năm trong năm đầu tiên và 2 kg mỗi năm sau đó cho đến khi trưởng thành vào năm thứ 60 loài b hấp thụ 2 kg trong năm năm đầu tiên và 3 kg mỗi năm sau đó cho đến khi trưởng thành vào năm thứ 50 nếu tôi trồng 1000 cây của mỗi loại tôi sẽ có tổng sản lượng tín chỉ là 1000 cây loại a x 1 59x2 1000 cây loại b x 5x3 45x3 269 000kg co2 2tổng cộng trong đó chúng ta phải trừ đi lượng khí thải do máy kéo làm đất v v tuy nhiên trên thực tế không phải tất cả các cây đều được trồng trong năm đầu tiên\\ntín dụng carbon có thể đóng vai trò quan trọng trong quá trình này vì chúng có thể tạo ra thu nhập từ lâu trước khi diễn ra đợt bán gỗ đầu tiên đặc biệt là thông qua tín dụng trước trong bối cảnh tín chỉ carbon cái thường được gọi là nông lâm kết hợp cũng nằm trong hoạt động trồng rừng đây là việc đưa cây vào đất nông nghiệp để trồng xen kẽ giữa các vụ mùa hoặc trồng cây lấy hạt như cây điều rõ ràng trong trường hợp này người ta cần chứng minh rằng chỉ riêng cây lấy hạt không đủ lợi nhuận để trả tiền cho việc trồng trọt để tuân thủ nguyên tắc bổ sung tái trồng rừng tái trồng rừng mô tả việc trồng cây trên đất từng là rừng hoặc hiện là rừng bị thoái hóa do khai thác than củi hoặc khai thác gỗ thương mại mặc dù thuật ngữ này khác nhau tái trồng rừng thường được xử lý theo cùng một cách như trồng rừng đó là lý do tại sao chúng có xu hướng được đề cập cùng nhau trong tài liệu thương mại bạn sẽ thường xuyên bắt gặp các tài liệu tham khảo về các dự án a r hoặc ar\\nbản anh hoàng minh cách tạo lập tín chỉ carbon how to earn carbon credits article quy trình để sở hữu tín chỉ carbon thường rắc rối và dễ bị nhầm lẫn bài viết này xem xét cách các nhà phát triển dự án có thể tạo ra được tín dụng carbon bằng cách đăng ký hoạt động của họ thành một dự án giảm khí thải mặc dù các chi tiết cụ thể cho từng dự án có thể khác nhau nhưng nhìn chung một chu trình dự án để sở hữu tín chỉ carbon sẽ diễn ra như dưới đây trong bài viết này chúng ta sẽ khám phá các giai đoạn chính của chu kỳ này làm thế nào chủ dự án có thể tạo ra tín chỉ carbon để nhận được tín chỉ carbon một dự án phải được xác minh độc lập là giảm hoặc loại bỏ khí nhà kính ghg khỏi khí quyển quá trình này có thể phức tạp và đòi hỏi phải sử dụng các phương pháp và quy trình chuyên biệt để đảm bảo tính chính xác và toàn vẹn của tín chỉ carbon chu trình dự án carbon phác thảo một hành trình có hệ thống mà các nhà phát triển dự án thực hiện để sở hữu được tín chỉ carbon thể hiện những đóng góp của họ cho môi trường bền vững dưới đây chúng ta sẽ đi vào khám phá chi tiết từng bước trong chu trình này\\nphát triển một dự án tín chỉ carbon là một quá trình gồm nhiều bước yêu cầu lập kế hoạch cẩn thận xác minh và triển khai đúng cách hướng dẫn này sẽ cung cấp từng bước chi tiết để giúp bạn hiểu cách phát triển một dự án tín chỉ carbon và các yếu tố quan trọng để thực hiện thành công ________________ 2 hiểu về tín chỉ carbon trước khi bắt đầu cần hiểu rõ tín chỉ carbon là gì và tại sao chúng quan trọng một tín chỉ carbon là một giấy phép có thể giao dịch cho phép chủ sở hữu phát thải một lượng carbon dioxide hoặc các khí nhà kính ghg khác thông thường một tín chỉ tương đương với một tấn co₂ các dự án giúp giảm hoặc loại bỏ khí thải như trồng rừng năng lượng tái tạo hoặc cải thiện hiệu suất năng lượng có thể tạo ra tín chỉ carbon ________________ 3 các bước phát triển dự án tín chỉ carbon bước 1 xác định dự án giảm phát thải carbon dự án tín chỉ carbon cần liên quan đến một hoạt động có thể giảm hoặc cô lập khí thải một số loại dự án phổ biến dự án lâm nghiệp trồng rừng trồng mới hoặc bảo vệ rừng để hấp thụ co₂ dự án năng lượng tái tạo phát triển năng lượng mặt trời gió thủy điện để thay thế nhiên liệu hóa thạch\\nđây là một bước quan trọng để đảm bảo rằng tín chỉ carbon được phát hành hợp lệ minh bạch và có thể giao dịch trên thị trường 1 thu thập dữ liệu lựa chọn phương pháp đo lường thích hợp cần xác định phương pháp đo lường và tính toán phát thải dựa trên loại dự án và tiêu chuẩn chứng nhận ví dụ dự án năng lượng tái tạo có thể sử dụng đồng hồ đo sản lượng điện để xác định mức giảm co₂ do thay thế năng lượng hóa thạch dự án trồng rừng có thể sử dụng công nghệ ảnh vệ tinh cảm biến từ xa hoặc kiểm kê rừng để xác định lượng co₂ hấp thụ cài đặt hệ thống giám sát bao gồm thiết bị đo lường tự động phần mềm thu thập dữ liệu theo thời gian thực cảm biến đo nồng độ khí co₂ hoặc các phần mềm theo dõi phát thải ghi chép và lưu trữ dữ liệu cần có hệ thống ghi nhận dữ liệu chi tiết theo từng mốc thời gian đảm bảo dữ liệu chính xác có thể truy xuất và minh bạch cho các đợt xác minh 2 xác minh hàng năm chuẩn bị báo cáo giám sát hằng năm dự án cần lập báo cáo giám sát bao gồm lượng khí thải giảm thực tế trong năm bất kỳ sự thay đổi nào về phương pháp đo lường hoặc thiết bị giám sát\\nxuống giống cho cánh đồng tham gia đề án canh tác 1 triệu ha lúa chất lượng cao tại đbscl giá carbon mua bán trao đổi tín chỉ carbon và những điều cần lưu ý để tạo ra 1 tín chỉ carbon hay 1 cert thì chủ doanh nghiệp hay nông dân cần phải áp dụng một hay nhiều giải pháp giảm phát thải knk so với cách làm thông thường của họ ví dụ như trong nông nghiệp có thể áp dụng giải pháp trồng rừng so với để đất trống cải tạo phục hồi rừng để tạo ra năng suất rừng cao hơn so với năng suất rừng hiện tại tưới khô ướt xen kẽ cho lúa so với ngập thường xuyên hoặc rút nước giữa vụ chuyển đổi đất lúa kém hiệu quả sang trồng màu trồng lúa nuôi tôm cải tạo khẩu phần ăn gia súc quản lý tốt hơn phân gia súc tuần hoàn chất thải vật nuôi và các loại phụ phẩm trồng trọt và việc áp dụng công nghệ giảm phát thải cần phải được đầu tư về mặt công nghệ xây dựng cơ sở hạ tầng vận hành hệ thống ví dụ để giảm phát thải khí mê tan từ canh tác lúa thì nhà nước và nhân dân phải đầu tư rất nhiều vào xây dựng hệ thống tưới tiêu chính xác hệ thống điều tiết nước hay phải có những nhà máy xử lý chất thải và phụ phẩm cây trồng\\nđây là một cơ hội cho những đơn vị có mức phát thải thấp tham gia vào trao đổi tín chỉ carbon bằng cách áp dụng các giải pháp giảm phát thải knk nhưng cũng là thách thức lớn đối với các đơn vị có mức phát thải cao sẽ phải thực hiện báo cáo phát thải hàng năm và thực hiện chặt chẽ kế hoạch giảm phát thải của mình đòi hỏi sự đầu tư đáng kể về công nghệ vậy để đạt được tín chỉ carbon thì doanh nghiệp cần phải làm gì đặc biệt là với sản xuất nông nghiệp đây có thực sự là cơ hội và làm thế nào để tạo ra tín chỉ carbon một cách tối ưu nhất vì tín chỉ carbon là lượng co2tđ được giảm phát thải hoặc loại bỏ hay là sản phẩm của các quá trình áp dụng biện pháp giảm phát thải knk lưu trữ carbon nên để đạt được tín chỉ carbon thì chúng ta cần phải chú trọng đến các hoạt động giảm phát thải knk và lưu trữ carbon các nguồn phát thải và giài pháp giảm phát thải knk trong nông nghiệp\\nloại thứ 1 là hạn ngạch phát thải knk chính phủ sẽ phân bổ và doanh nghiệp có quyền phát thải trong hạn ngạch mình sở hữu còn phát thải thêm thì phải mua hạn ngạch từ các doanh nghiệp khác giá hạn ngạch thường rất cao có thể lên đến 100 euro tấn loại thứ 2 là tín chỉ carbon mang tính chất tự nguyện khi doanh nghiệp đầu tư vào những mô hình kinh doanh giảm phát thải như trồng rừng thì các cơ quan quản lý phê duyệt thẩm định lượng giảm đó sẽ tạo ra được tín chỉ carbon tín chỉ đó vì mang tính tự nguyện nên giá thấp hơn nhiều dao động từ 1 đến 25 usd tấn tùy vào loại hình công nghệ và mức đầu tư để thực hiện cam kết với quốc tế về lộ trình đạt được phát thải ròng bằng 0 vào năm 2050 và lộ trình giảm 30 phát thải khí mê tan vào năm 2030 so với năm 2020 thì chính phủ đã ra nghị định số 06 2022 nđ cp quy định giảm nhẹ phát thải knk và bảo vệ tầng ô zôn với lộ trình đưa thị trường carbon đi vào hoạt động từ năm 2028\\n\\n**Additional Context from DuckDuckGo Web Search:**\\n[{'snippet': 'Ngân hàng Thế giới cam kết chi trả 10 USD/tín chỉ carbon từ trồng lúa giảm phát thải ở ĐBSCL. Ở nước ta có 7,1 triệu ha lúa, vậy nông dân canh tác như thế nào để bán được tín chỉ carbon.', 'title': 'Trồng lúa để bán được 10 USD/tín chỉ carbon: Phải theo quy trình nghiêm ...', 'link': 'https://vietnamnet.vn/trong-lua-de-ban-duoc-10-usd-tin-chi-carbon-phai-theo-quy-trinh-nghiem-ngat-2277094.html'}, {'snippet': 'Giới thiệu Trong cuộc chiến toàn cầu chống biến đổi khí hậu, tín dụng carbon đã nổi lên như một công cụ quan trọng để bù đắp lượng khí thải và khuyến khích các hoạt động bền vững. Về cơ bản, tín dụng carbon đại diện cho một tấn carbon dioxide hoặc lượng tương đương...', 'title': 'Ngũ cốc bền vững: Tín chỉ carbon trong thế giới trồng lúa', 'link': 'https://greenup.asia/vi/ngu-coc-ben-vung-tin-chi-carbon-trong-the-gioi-trong-lua/'}, {'snippet': 'Chương trình hợp tác nhằm phát hành tín chỉ carbon trong sản xuất lúa bước đầu được triển khai thí điểm tại tỉnh Nghệ An ở 5 huyện gồm: Diễn Châu, Nghi Lộc, Đô Lương, Nam Đàn, Hưng Nguyên với 31 xã tham gia thực hiện, quy mô thực hiện là 5.339,5 ha.', 'title': 'Tạo tín chỉ Carbon trong sản xuất lúa cho vùng Bắc Trung bộ', 'link': 'https://vaas.vn/vi/hop-tac-quoc-te/tao-tin-chi-carbon-trong-san-xuat-lua-cho-vung-bac-trung-bo'}, {'snippet': 'Trồng lúa có phát thải cao nhất trong nông nghiệp, tức là lĩnh vực này có nhiều dư địa để tiết giảm và bán tín chỉ carbon, nhưng để thành hiện thực cần nhiều nỗ lực.', 'title': 'Triển vọng bán tín chỉ carbon lúa đến đâu? - VnExpress', 'link': 'https://vnexpress.net/trien-vong-ban-tin-chi-carbon-lua-den-dau-4785268.html'}]\", 'user_query': 'Hãy giải thích cụ thể quy trình từ việc trồng lúa đến làm tín chỉ carbon', 'refined_query': 'giải thích quy trình chi tiết từ trồng lúa đến tạo ra tín chỉ carbon như thế nào', 'consulted_files': [('4. Phần 4: Làm Sao Để Giao Dịch Tín Chỉ Carbon? /9. Chapter 9: Quy trình giao dịch tín chỉ carbon/Demystifying carbon markets - a complete guide to developing carbon credit projects.en.vi.pdf', 'https://drive.google.com/file/d/1Ih5sqGPEYLULomCAvbAAycOZ6Zkf8TfE/view?usp=sharing'), ('3. Phần 3: Làm Sao Để Thành Lập Dự Án Tín Chỉ Carbon? /7. Chương 7: Các bước để thiết lập tín chỉ carbon/Reported by TCCV - Chap 7', 'https://drive.google.com/file/d/1GkOt1L8ii_E2gmebpCtgwo_jZdzoqhaMqUIGWwB-HNY/view?usp=sharing'), ('5. Phần 5: Các Dự Án Tín Chỉ Carbon Tự Nhiên/14. Chapter 14: Agricultural Land Management (ALM)/Tín chỉ carbon, cơ hội và thách thức cho sản xuất nông nghiệp', 'https://drive.google.com/file/d/1-ii7AI7Iv-H3VMaQso5wvEctzobpokcJoy5UhHMkCMg/view?usp=sharing')], 'past_messages': [{'role': 'system', 'content': 'You are an AI assistant that helps users retrieve relevant information from documents and external sources.'}]}\n"
     ]
    }
   ],
   "source": [
    "user_query = \"Hãy giải thích cụ thể quy trình từ việc trồng lúa đến làm tín chỉ carbon\"\n",
    "messages = [{\n",
    "      \"role\": \"system\",\n",
    "      \"content\": \"You are an AI assistant that helps users retrieve relevant information from documents and external sources.\"\n",
    "    }]\n",
    "res = full_workflow(user_query, messages)"
   ]
  },
  {
   "cell_type": "code",
   "execution_count": 3,
   "metadata": {},
   "outputs": [
    {
     "data": {
      "text/html": [
       "<pre style=\"white-space:pre;overflow-x:auto;line-height:normal;font-family:Menlo,'DejaVu Sans Mono',consolas,'Courier New',monospace\">Chào                                                                                                               \n",
       "</pre>\n"
      ],
      "text/plain": [
       "Chào                                                                                                               \n"
      ]
     },
     "metadata": {},
     "output_type": "display_data"
    },
    {
     "data": {
      "text/html": [
       "<pre style=\"white-space:pre;overflow-x:auto;line-height:normal;font-family:Menlo,'DejaVu Sans Mono',consolas,'Courier New',monospace\">bạn, tôi                                                                                                           \n",
       "</pre>\n"
      ],
      "text/plain": [
       "bạn, tôi                                                                                                           \n"
      ]
     },
     "metadata": {},
     "output_type": "display_data"
    },
    {
     "data": {
      "text/html": [
       "<pre style=\"white-space:pre;overflow-x:auto;line-height:normal;font-family:Menlo,'DejaVu Sans Mono',consolas,'Courier New',monospace\">là chuyên gia về tín chỉ carbon của Tín Chỉ Carbon Việt Nam (T                                                     \n",
       "</pre>\n"
      ],
      "text/plain": [
       "là chuyên gia về tín chỉ carbon của Tín Chỉ Carbon Việt Nam (T                                                     \n"
      ]
     },
     "metadata": {},
     "output_type": "display_data"
    },
    {
     "data": {
      "text/html": [
       "<pre style=\"white-space:pre;overflow-x:auto;line-height:normal;font-family:Menlo,'DejaVu Sans Mono',consolas,'Courier New',monospace\">CCV). Dưới đây là quy trình chi tiết từ trồng lúa đến tạo                                                          \n",
       "</pre>\n"
      ],
      "text/plain": [
       "CCV). Dưới đây là quy trình chi tiết từ trồng lúa đến tạo                                                          \n"
      ]
     },
     "metadata": {},
     "output_type": "display_data"
    },
    {
     "data": {
      "text/html": [
       "<pre style=\"white-space:pre;overflow-x:auto;line-height:normal;font-family:Menlo,'DejaVu Sans Mono',consolas,'Courier New',monospace\">ra tín chỉ carbon, dựa trên các tài liệu và thông tin tôi đã tham khảo:                                            \n",
       "\n",
       "**1. Áp dụng các giải pháp giảm phát thải khí                                                                      \n",
       "</pre>\n"
      ],
      "text/plain": [
       "ra tín chỉ carbon, dựa trên các tài liệu và thông tin tôi đã tham khảo:                                            \n",
       "\n",
       "**1. Áp dụng các giải pháp giảm phát thải khí                                                                      \n"
      ]
     },
     "metadata": {},
     "output_type": "display_data"
    },
    {
     "data": {
      "text/html": [
       "<pre style=\"white-space:pre;overflow-x:auto;line-height:normal;font-family:Menlo,'DejaVu Sans Mono',consolas,'Courier New',monospace\">nhà kính (KNK) so với phương pháp canh tác thông thường:**                                                         \n",
       "\n",
       "<span style=\"color: #808000; text-decoration-color: #808000; font-weight: bold\"> • </span><span style=\"font-weight: bold\">Các biện pháp cụ thể trong trồng lúa:</span>                                                                           \n",
       "<span style=\"color: #808000; text-decoration-color: #808000; font-weight: bold\">   </span><span style=\"color: #808000; text-decoration-color: #808000\">────────────────────────────────────────────────────────────────────────────────────────────────────────────────</span>\n",
       "</pre>\n"
      ],
      "text/plain": [
       "nhà kính (KNK) so với phương pháp canh tác thông thường:**                                                         \n",
       "\n",
       "\u001b[1;33m • \u001b[0m\u001b[1mCác biện pháp cụ thể trong trồng lúa:\u001b[0m                                                                           \n",
       "\u001b[1;33m   \u001b[0m\u001b[33m────────────────────────────────────────────────────────────────────────────────────────────────────────────────\u001b[0m\n"
      ]
     },
     "metadata": {},
     "output_type": "display_data"
    },
    {
     "data": {
      "text/html": [
       "<pre style=\"white-space:pre;overflow-x:auto;line-height:normal;font-family:Menlo,'DejaVu Sans Mono',consolas,'Courier New',monospace\">Tưới khô ướt xen kẽ (AWD):** Thay vì ngập thường xuyên, áp dụng kỹ thuật tưới khô ướt xen kẽ giúp giảm phát thải   \n",
       "khí metan ([file 5. Phần 5: Các                                                                                    \n",
       "</pre>\n"
      ],
      "text/plain": [
       "Tưới khô ướt xen kẽ (AWD):** Thay vì ngập thường xuyên, áp dụng kỹ thuật tưới khô ướt xen kẽ giúp giảm phát thải   \n",
       "khí metan ([file 5. Phần 5: Các                                                                                    \n"
      ]
     },
     "metadata": {},
     "output_type": "display_data"
    },
    {
     "data": {
      "text/html": [
       "<pre style=\"white-space:pre;overflow-x:auto;line-height:normal;font-family:Menlo,'DejaVu Sans Mono',consolas,'Courier New',monospace\">Dự Án Tín Chỉ Carbon Tự Nhiên/14. Chapter 14: Agricultural Land Management (ALM)/Tín chỉ carbon, cơ hội và thách   \n",
       "thức cho sản xuất nông nghiệp](https://drive.google                                                                \n",
       "</pre>\n"
      ],
      "text/plain": [
       "Dự Án Tín Chỉ Carbon Tự Nhiên/14. Chapter 14: Agricultural Land Management (ALM)/Tín chỉ carbon, cơ hội và thách   \n",
       "thức cho sản xuất nông nghiệp](https://drive.google                                                                \n"
      ]
     },
     "metadata": {},
     "output_type": "display_data"
    },
    {
     "data": {
      "text/html": [
       "<pre style=\"white-space:pre;overflow-x:auto;line-height:normal;font-family:Menlo,'DejaVu Sans Mono',consolas,'Courier New',monospace\">.com/file/d/1-ii7AI7Iv-H3VMaQso5wvEctzobpokcJoy5UhHMkCMg/view?usp=sharing)). *   <span style=\"font-weight: bold\">Rút nước giữa vụ:</span> Tương tự như    \n",
       "tưới khô ướt xen kẽ                                                                                                \n",
       "</pre>\n"
      ],
      "text/plain": [
       ".com/file/d/1-ii7AI7Iv-H3VMaQso5wvEctzobpokcJoy5UhHMkCMg/view?usp=sharing)). *   \u001b[1mRút nước giữa vụ:\u001b[0m Tương tự như    \n",
       "tưới khô ướt xen kẽ                                                                                                \n"
      ]
     },
     "metadata": {},
     "output_type": "display_data"
    },
    {
     "data": {
      "text/html": [
       "<pre style=\"white-space:pre;overflow-x:auto;line-height:normal;font-family:Menlo,'DejaVu Sans Mono',consolas,'Courier New',monospace\">, việc rút nước giữa vụ cũng giúp giảm phát thải metan. *   <span style=\"font-weight: bold\">Chuyển đổi đất lúa kém hiệu quả sang trồng màu hoặc </span>   \n",
       "<span style=\"font-weight: bold\">lúa-tôm:</span> Thay đổi mục đích sử dụng đất có thể làm giảm tổng lượng phát thải KNK. *   **Cải tạo                     \n",
       "</pre>\n"
      ],
      "text/plain": [
       ", việc rút nước giữa vụ cũng giúp giảm phát thải metan. *   \u001b[1mChuyển đổi đất lúa kém hiệu quả sang trồng màu hoặc \u001b[0m   \n",
       "\u001b[1mlúa-tôm:\u001b[0m Thay đổi mục đích sử dụng đất có thể làm giảm tổng lượng phát thải KNK. *   **Cải tạo                     \n"
      ]
     },
     "metadata": {},
     "output_type": "display_data"
    },
    {
     "data": {
      "text/html": [
       "<pre style=\"white-space:pre;overflow-x:auto;line-height:normal;font-family:Menlo,'DejaVu Sans Mono',consolas,'Courier New',monospace\">khẩu phần ăn gia súc:** Nếu kết hợp trồng lúa với chăn nuôi, cải thiện khẩu phần ăn gia súc có thể giảm phát thải  \n",
       "từ chăn nuôi. *   <span style=\"font-weight: bold\">Quản lý tốt hơn phân gia súc:</span> Sử dụng các biện pháp như ủ phân, biogas để giảm                   \n",
       "</pre>\n"
      ],
      "text/plain": [
       "khẩu phần ăn gia súc:** Nếu kết hợp trồng lúa với chăn nuôi, cải thiện khẩu phần ăn gia súc có thể giảm phát thải  \n",
       "từ chăn nuôi. *   \u001b[1mQuản lý tốt hơn phân gia súc:\u001b[0m Sử dụng các biện pháp như ủ phân, biogas để giảm                   \n"
      ]
     },
     "metadata": {},
     "output_type": "display_data"
    },
    {
     "data": {
      "text/html": [
       "<pre style=\"white-space:pre;overflow-x:auto;line-height:normal;font-family:Menlo,'DejaVu Sans Mono',consolas,'Courier New',monospace\">phát thải từ phân gia súc. *   <span style=\"font-weight: bold\">Tuần hoàn chất thải vật nuôi và phụ phẩm trồng trọt:</span> Tái sử dụng chất thải và phụ   \n",
       "phẩm giúp giảm nhu cầu sử dụng phân bón hóa học và các nguồn phát thải khác.                                       \n",
       "\n",
       "<span style=\"color: #808000; text-decoration-color: #808000; font-weight: bold\"> • </span>**Đầu tư công nghệ và                                                                                           \n",
       "</pre>\n"
      ],
      "text/plain": [
       "phát thải từ phân gia súc. *   \u001b[1mTuần hoàn chất thải vật nuôi và phụ phẩm trồng trọt:\u001b[0m Tái sử dụng chất thải và phụ   \n",
       "phẩm giúp giảm nhu cầu sử dụng phân bón hóa học và các nguồn phát thải khác.                                       \n",
       "\n",
       "\u001b[1;33m • \u001b[0m**Đầu tư công nghệ và                                                                                           \n"
      ]
     },
     "metadata": {},
     "output_type": "display_data"
    },
    {
     "data": {
      "text/html": [
       "<pre style=\"white-space:pre;overflow-x:auto;line-height:normal;font-family:Menlo,'DejaVu Sans Mono',consolas,'Courier New',monospace\">cơ sở hạ tầng:** *   Để thực hiện các giải pháp giảm phát thải (ví dụ như tưới khô ướt xen kẽ), cần đầu tư vào hệ  \n",
       "thống tưới tiêu chính xác, hệ thống điều tiết nước, và có thể là các nhà máy xử lý chất thải và phụ phẩm cây       \n",
       "</pre>\n"
      ],
      "text/plain": [
       "cơ sở hạ tầng:** *   Để thực hiện các giải pháp giảm phát thải (ví dụ như tưới khô ướt xen kẽ), cần đầu tư vào hệ  \n",
       "thống tưới tiêu chính xác, hệ thống điều tiết nước, và có thể là các nhà máy xử lý chất thải và phụ phẩm cây       \n"
      ]
     },
     "metadata": {},
     "output_type": "display_data"
    },
    {
     "data": {
      "text/html": [
       "<pre style=\"white-space:pre;overflow-x:auto;line-height:normal;font-family:Menlo,'DejaVu Sans Mono',consolas,'Courier New',monospace\">trồng ([file 5. Phần 5: Các Dự Án Tín Chỉ Carbon Tự Nhiên/14. Chapter 14: Agricultural Land Management (ALM)/Tín   \n",
       "chỉ carbon, cơ hội và thách thức cho sản xuất nông nghiệp](https://drive.google.com/file/d                         \n",
       "</pre>\n"
      ],
      "text/plain": [
       "trồng ([file 5. Phần 5: Các Dự Án Tín Chỉ Carbon Tự Nhiên/14. Chapter 14: Agricultural Land Management (ALM)/Tín   \n",
       "chỉ carbon, cơ hội và thách thức cho sản xuất nông nghiệp](https://drive.google.com/file/d                         \n"
      ]
     },
     "metadata": {},
     "output_type": "display_data"
    },
    {
     "data": {
      "text/html": [
       "<pre style=\"white-space:pre;overflow-x:auto;line-height:normal;font-family:Menlo,'DejaVu Sans Mono',consolas,'Courier New',monospace\">/1-ii7AI7Iv-H3VMaQso5wvEctzobpokcJoy5UhHMkCMg/view?usp=sharing)).                                                  \n",
       "\n",
       "<span style=\"font-weight: bold\">2. Đo đạc, báo cáo và thẩm định lượng giảm phát thải:</span>                                                              \n",
       "\n",
       "<span style=\"color: #808000; text-decoration-color: #808000; font-weight: bold\"> • </span><span style=\"font-weight: bold\">Thu thập dữ liệu:</span>                                                                                               \n",
       "</pre>\n"
      ],
      "text/plain": [
       "/1-ii7AI7Iv-H3VMaQso5wvEctzobpokcJoy5UhHMkCMg/view?usp=sharing)).                                                  \n",
       "\n",
       "\u001b[1m2. Đo đạc, báo cáo và thẩm định lượng giảm phát thải:\u001b[0m                                                              \n",
       "\n",
       "\u001b[1;33m • \u001b[0m\u001b[1mThu thập dữ liệu:\u001b[0m                                                                                               \n"
      ]
     },
     "metadata": {},
     "output_type": "display_data"
    },
    {
     "data": {
      "text/html": [
       "<pre style=\"white-space:pre;overflow-x:auto;line-height:normal;font-family:Menlo,'DejaVu Sans Mono',consolas,'Courier New',monospace\"><span style=\"background-color: #272822\">                                                                                                                   </span>\n",
       "<span style=\"background-color: #272822\"> </span><span style=\"color: #f8f8f2; text-decoration-color: #f8f8f2; background-color: #272822\">*   **Lựa chọn phương pháp đo lường:** Xác định phương pháp đo lường và tính toán phát thải dựa trên loại dự án v</span><span style=\"background-color: #272822\"> </span>\n",
       "<span style=\"background-color: #272822\"> </span><span style=\"color: #f8f8f2; text-decoration-color: #f8f8f2; background-color: #272822\">tiêu chuẩn chứng nhận.</span><span style=\"background-color: #272822\">                                                                                            </span>\n",
       "<span style=\"background-color: #272822\"> </span><span style=\"color: #f8f8f2; text-decoration-color: #f8f8f2; background-color: #272822\">*   **Cài đặt hệ thống giám sát:** Bao gồm thiết bị đo lường tự động, phần mềm thu thập dữ</span><span style=\"background-color: #272822\">                        </span>\n",
       "<span style=\"background-color: #272822\">                                                                                                                   </span>\n",
       "</pre>\n"
      ],
      "text/plain": [
       "\u001b[48;2;39;40;34m                                                                                                                   \u001b[0m\n",
       "\u001b[48;2;39;40;34m \u001b[0m\u001b[38;2;248;248;242;48;2;39;40;34m*   **Lựa chọn phương pháp đo lường:** Xác định phương pháp đo lường và tính toán phát thải dựa trên loại dự án v\u001b[0m\u001b[48;2;39;40;34m \u001b[0m\n",
       "\u001b[48;2;39;40;34m \u001b[0m\u001b[38;2;248;248;242;48;2;39;40;34mtiêu chuẩn chứng nhận.\u001b[0m\u001b[48;2;39;40;34m                                                                                           \u001b[0m\u001b[48;2;39;40;34m \u001b[0m\n",
       "\u001b[48;2;39;40;34m \u001b[0m\u001b[38;2;248;248;242;48;2;39;40;34m*   **Cài đặt hệ thống giám sát:** Bao gồm thiết bị đo lường tự động, phần mềm thu thập dữ\u001b[0m\u001b[48;2;39;40;34m                       \u001b[0m\u001b[48;2;39;40;34m \u001b[0m\n",
       "\u001b[48;2;39;40;34m                                                                                                                   \u001b[0m\n"
      ]
     },
     "metadata": {},
     "output_type": "display_data"
    },
    {
     "data": {
      "text/html": [
       "<pre style=\"white-space:pre;overflow-x:auto;line-height:normal;font-family:Menlo,'DejaVu Sans Mono',consolas,'Courier New',monospace\">liệu theo thời gian thực, cảm biến đo nồng độ khí CO2 hoặc các phần mềm theo dõi phát thải. *   <span style=\"font-weight: bold\">Ghi chép và lưu trữ</span>\n",
       "<span style=\"font-weight: bold\">dữ liệu:</span> Cần có hệ thống ghi nhận dữ liệu chi tiết theo từng mốc thời gian, đảm bảo dữ liệu chính xác,             \n",
       "</pre>\n"
      ],
      "text/plain": [
       "liệu theo thời gian thực, cảm biến đo nồng độ khí CO2 hoặc các phần mềm theo dõi phát thải. *   \u001b[1mGhi chép và lưu trữ\u001b[0m\n",
       "\u001b[1mdữ liệu:\u001b[0m Cần có hệ thống ghi nhận dữ liệu chi tiết theo từng mốc thời gian, đảm bảo dữ liệu chính xác,             \n"
      ]
     },
     "metadata": {},
     "output_type": "display_data"
    },
    {
     "data": {
      "text/html": [
       "<pre style=\"white-space:pre;overflow-x:auto;line-height:normal;font-family:Menlo,'DejaVu Sans Mono',consolas,'Courier New',monospace\">có thể truy xuất và minh bạch cho các đợt xác minh.                                                                \n",
       "\n",
       "<span style=\"color: #808000; text-decoration-color: #808000; font-weight: bold\"> • </span><span style=\"font-weight: bold\">Xác minh hàng năm:</span>                                                                                              \n",
       "<span style=\"color: #808000; text-decoration-color: #808000; font-weight: bold\">    • </span><span style=\"font-weight: bold\">Chuẩn bị báo cáo giám sát hàng năm:</span> Dự án cần lập báo cáo giám sát bao gồm lượng khí thải giảm thực tế trong \n",
       "<span style=\"color: #808000; text-decoration-color: #808000; font-weight: bold\">      </span>năm, bất kỳ sự thay đổi                                                                                      \n",
       "</pre>\n"
      ],
      "text/plain": [
       "có thể truy xuất và minh bạch cho các đợt xác minh.                                                                \n",
       "\n",
       "\u001b[1;33m • \u001b[0m\u001b[1mXác minh hàng năm:\u001b[0m                                                                                              \n",
       "\u001b[1;33m   \u001b[0m\u001b[1;33m • \u001b[0m\u001b[1mChuẩn bị báo cáo giám sát hàng năm:\u001b[0m Dự án cần lập báo cáo giám sát bao gồm lượng khí thải giảm thực tế trong \n",
       "\u001b[1;33m   \u001b[0m\u001b[1;33m   \u001b[0mnăm, bất kỳ sự thay đổi                                                                                      \n"
      ]
     },
     "metadata": {},
     "output_type": "display_data"
    },
    {
     "data": {
      "text/html": [
       "<pre style=\"white-space:pre;overflow-x:auto;line-height:normal;font-family:Menlo,'DejaVu Sans Mono',consolas,'Courier New',monospace\">nào về phương pháp đo lường hoặc thiết bị giám sát.                                                                \n",
       "\n",
       "<span style=\"color: #808000; text-decoration-color: #808000; font-weight: bold\"> • </span><span style=\"font-weight: bold\">Thẩm định:</span> Các cơ quan quản lý phê duyệt thẩm định lượng giảm phát thải ([file 5. Phần 5: Các Dự Án Tín Chỉ     \n",
       "<span style=\"color: #808000; text-decoration-color: #808000; font-weight: bold\">   </span>Carbon Tự Nhiên/14. Chapter 14: Agricultural Land Management                                                    \n",
       "</pre>\n"
      ],
      "text/plain": [
       "nào về phương pháp đo lường hoặc thiết bị giám sát.                                                                \n",
       "\n",
       "\u001b[1;33m • \u001b[0m\u001b[1mThẩm định:\u001b[0m Các cơ quan quản lý phê duyệt thẩm định lượng giảm phát thải ([file 5. Phần 5: Các Dự Án Tín Chỉ     \n",
       "\u001b[1;33m   \u001b[0mCarbon Tự Nhiên/14. Chapter 14: Agricultural Land Management                                                    \n"
      ]
     },
     "metadata": {},
     "output_type": "display_data"
    },
    {
     "data": {
      "text/html": [
       "<pre style=\"white-space:pre;overflow-x:auto;line-height:normal;font-family:Menlo,'DejaVu Sans Mono',consolas,'Courier New',monospace\">(ALM)/Tín chỉ carbon, cơ hội và thách thức cho sản xuất nông                                                       \n",
       "nghiệp](https://drive.google.com/file/d/1-ii7AI7Iv-H3VMaQso5wvEctzobpokcJoy5UhHMkCMg/view?                         \n",
       "</pre>\n"
      ],
      "text/plain": [
       "(ALM)/Tín chỉ carbon, cơ hội và thách thức cho sản xuất nông                                                       \n",
       "nghiệp](https://drive.google.com/file/d/1-ii7AI7Iv-H3VMaQso5wvEctzobpokcJoy5UhHMkCMg/view?                         \n"
      ]
     },
     "metadata": {},
     "output_type": "display_data"
    },
    {
     "data": {
      "text/html": [
       "<pre style=\"white-space:pre;overflow-x:auto;line-height:normal;font-family:Menlo,'DejaVu Sans Mono',consolas,'Courier New',monospace\">usp=sharing)).                                                                                                     \n",
       "\n",
       "<span style=\"font-weight: bold\">3. Chứng nhận và phát hành tín chỉ carbon:</span>                                                                         \n",
       "\n",
       "<span style=\"color: #808000; text-decoration-color: #808000; font-weight: bold\"> • </span><span style=\"font-weight: bold\">Đăng ký dự án:</span> Đăng ký hoạt động giảm phát thải thành một dự án tín chỉ carbon ([file 3. Phần 3: Làm Sao Để     \n",
       "<span style=\"color: #808000; text-decoration-color: #808000; font-weight: bold\">   </span>Thành Lập Dự Án Tín Chỉ Carbon? /                                                                               \n",
       "</pre>\n"
      ],
      "text/plain": [
       "usp=sharing)).                                                                                                     \n",
       "\n",
       "\u001b[1m3. Chứng nhận và phát hành tín chỉ carbon:\u001b[0m                                                                         \n",
       "\n",
       "\u001b[1;33m • \u001b[0m\u001b[1mĐăng ký dự án:\u001b[0m Đăng ký hoạt động giảm phát thải thành một dự án tín chỉ carbon ([file 3. Phần 3: Làm Sao Để     \n",
       "\u001b[1;33m   \u001b[0mThành Lập Dự Án Tín Chỉ Carbon? /                                                                               \n"
      ]
     },
     "metadata": {},
     "output_type": "display_data"
    },
    {
     "data": {
      "text/html": [
       "<pre style=\"white-space:pre;overflow-x:auto;line-height:normal;font-family:Menlo,'DejaVu Sans Mono',consolas,'Courier New',monospace\">\n",
       "<span style=\"color: #808000; text-decoration-color: #808000; font-weight: bold\"> 7 </span>Chương 7: Các bước để thiết lập tín chỉ carbon/Reported by TCCV - Chap                                          \n",
       "<span style=\"color: #808000; text-decoration-color: #808000; font-weight: bold\">   </span>7](https://drive.google.com/file/d/1GkOt1L8ii_E2gmebpCtgwo_jZdzoqhaMqUIGWw                                      \n",
       "</pre>\n"
      ],
      "text/plain": [
       "\n",
       "\u001b[1;33m 7 \u001b[0mChương 7: Các bước để thiết lập tín chỉ carbon/Reported by TCCV - Chap                                          \n",
       "\u001b[1;33m   \u001b[0m7](https://drive.google.com/file/d/1GkOt1L8ii_E2gmebpCtgwo_jZdzoqhaMqUIGWw                                      \n"
      ]
     },
     "metadata": {},
     "output_type": "display_data"
    },
    {
     "data": {
      "text/html": [
       "<pre style=\"white-space:pre;overflow-x:auto;line-height:normal;font-family:Menlo,'DejaVu Sans Mono',consolas,'Courier New',monospace\">B-HNY/view?usp=sharing)).                                                                                          \n",
       "\n",
       "<span style=\"color: #808000; text-decoration-color: #808000; font-weight: bold\"> • </span><span style=\"font-weight: bold\">Xác minh độc lập:</span> Dự án phải được xác minh độc lập là giảm hoặc loại bỏ khí nhà kính (GHG) khỏi khí quyển ([file\n",
       "<span style=\"color: #808000; text-decoration-color: #808000; font-weight: bold\">   </span>3. Phần 3: Làm Sao Để Thành Lập Dự Án Tín Chỉ                                                                   \n",
       "</pre>\n"
      ],
      "text/plain": [
       "B-HNY/view?usp=sharing)).                                                                                          \n",
       "\n",
       "\u001b[1;33m • \u001b[0m\u001b[1mXác minh độc lập:\u001b[0m Dự án phải được xác minh độc lập là giảm hoặc loại bỏ khí nhà kính (GHG) khỏi khí quyển ([file\n",
       "\u001b[1;33m   \u001b[0m3. Phần 3: Làm Sao Để Thành Lập Dự Án Tín Chỉ                                                                   \n"
      ]
     },
     "metadata": {},
     "output_type": "display_data"
    },
    {
     "data": {
      "text/html": [
       "<pre style=\"white-space:pre;overflow-x:auto;line-height:normal;font-family:Menlo,'DejaVu Sans Mono',consolas,'Courier New',monospace\">Carbon? /7. Chương 7: Các bước để thiết lập tín chỉ carbon/Reported by TCCV - Chap                                 \n",
       "7](https://drive.google.com/file/d/1GkOt1L8ii_E2gmebpCtgwo_jZdzoqha                                                \n",
       "</pre>\n"
      ],
      "text/plain": [
       "Carbon? /7. Chương 7: Các bước để thiết lập tín chỉ carbon/Reported by TCCV - Chap                                 \n",
       "7](https://drive.google.com/file/d/1GkOt1L8ii_E2gmebpCtgwo_jZdzoqha                                                \n"
      ]
     },
     "metadata": {},
     "output_type": "display_data"
    },
    {
     "data": {
      "text/html": [
       "<pre style=\"white-space:pre;overflow-x:auto;line-height:normal;font-family:Menlo,'DejaVu Sans Mono',consolas,'Courier New',monospace\">MqUIGWwB-HNY/view?usp=sharing)).                                                                                   \n",
       "\n",
       "<span style=\"color: #808000; text-decoration-color: #808000; font-weight: bold\"> • </span><span style=\"font-weight: bold\">Phát hành tín chỉ:</span> Sau khi thẩm định và xác minh thành công, dự án sẽ được cấp tín chỉ carbon tương ứng với     \n",
       "<span style=\"color: #808000; text-decoration-color: #808000; font-weight: bold\">   </span>lượng giảm phát thải. Một tín chỉ carbon tương đương với một tấn CO2 ([                                         \n",
       "</pre>\n"
      ],
      "text/plain": [
       "MqUIGWwB-HNY/view?usp=sharing)).                                                                                   \n",
       "\n",
       "\u001b[1;33m • \u001b[0m\u001b[1mPhát hành tín chỉ:\u001b[0m Sau khi thẩm định và xác minh thành công, dự án sẽ được cấp tín chỉ carbon tương ứng với     \n",
       "\u001b[1;33m   \u001b[0mlượng giảm phát thải. Một tín chỉ carbon tương đương với một tấn CO2 ([                                         \n"
      ]
     },
     "metadata": {},
     "output_type": "display_data"
    },
    {
     "data": {
      "text/html": [
       "<pre style=\"white-space:pre;overflow-x:auto;line-height:normal;font-family:Menlo,'DejaVu Sans Mono',consolas,'Courier New',monospace\">file 3. Phần 3: Làm Sao Để Thành Lập Dự Án Tín Chỉ Carbon? /7. Chương 7: Các bước để thiết lập tín chỉ             \n",
       "carbon/Reported by TCCV - Chap 7](https://drive.google.com/file/d/1Gk                                              \n",
       "</pre>\n"
      ],
      "text/plain": [
       "file 3. Phần 3: Làm Sao Để Thành Lập Dự Án Tín Chỉ Carbon? /7. Chương 7: Các bước để thiết lập tín chỉ             \n",
       "carbon/Reported by TCCV - Chap 7](https://drive.google.com/file/d/1Gk                                              \n"
      ]
     },
     "metadata": {},
     "output_type": "display_data"
    },
    {
     "data": {
      "text/html": [
       "<pre style=\"white-space:pre;overflow-x:auto;line-height:normal;font-family:Menlo,'DejaVu Sans Mono',consolas,'Courier New',monospace\">Ot1L8ii_E2gmebpCtgwo_jZdzoqhaMqUIGWwB-HNY/view?usp=sharing)).                                                      \n",
       "\n",
       "<span style=\"font-weight: bold\">4. Giao dịch tín chỉ carbon:</span>                                                                                       \n",
       "\n",
       "<span style=\"color: #808000; text-decoration-color: #808000; font-weight: bold\"> • </span><span style=\"font-weight: bold\">Bán tín chỉ:</span> Doanh nghiệp hoặc nông dân có thể bán                                                              \n",
       "</pre>\n"
      ],
      "text/plain": [
       "Ot1L8ii_E2gmebpCtgwo_jZdzoqhaMqUIGWwB-HNY/view?usp=sharing)).                                                      \n",
       "\n",
       "\u001b[1m4. Giao dịch tín chỉ carbon:\u001b[0m                                                                                       \n",
       "\n",
       "\u001b[1;33m • \u001b[0m\u001b[1mBán tín chỉ:\u001b[0m Doanh nghiệp hoặc nông dân có thể bán                                                              \n"
      ]
     },
     "metadata": {},
     "output_type": "display_data"
    },
    {
     "data": {
      "text/html": [
       "<pre style=\"white-space:pre;overflow-x:auto;line-height:normal;font-family:Menlo,'DejaVu Sans Mono',consolas,'Courier New',monospace\">tín chỉ carbon trên thị trường carbon tự nguyện hoặc tuân thủ.                                                     \n",
       "\n",
       "<span style=\"color: #808000; text-decoration-color: #808000; font-weight: bold\"> • </span><span style=\"font-weight: bold\">Lưu ý về giá:</span> Giá tín chỉ carbon trên thị trường tự nguyện thường dao động từ 1 đến 25 USD/tấn CO2, tùy thuộc   \n",
       "<span style=\"color: #808000; text-decoration-color: #808000; font-weight: bold\">   </span>vào loại hình công nghệ và mức đầu tư ([file 5                                                                  \n",
       "</pre>\n"
      ],
      "text/plain": [
       "tín chỉ carbon trên thị trường carbon tự nguyện hoặc tuân thủ.                                                     \n",
       "\n",
       "\u001b[1;33m • \u001b[0m\u001b[1mLưu ý về giá:\u001b[0m Giá tín chỉ carbon trên thị trường tự nguyện thường dao động từ 1 đến 25 USD/tấn CO2, tùy thuộc   \n",
       "\u001b[1;33m   \u001b[0mvào loại hình công nghệ và mức đầu tư ([file 5                                                                  \n"
      ]
     },
     "metadata": {},
     "output_type": "display_data"
    },
    {
     "data": {
      "text/html": [
       "<pre style=\"white-space:pre;overflow-x:auto;line-height:normal;font-family:Menlo,'DejaVu Sans Mono',consolas,'Courier New',monospace\">. Phần 5: Các Dự Án Tín Chỉ Carbon Tự Nhiên/14. Chapter 14: Agricultural Land Management (ALM)/Tín chỉ carbon, cơ  \n",
       "hội và thách thức cho sản xuất nông nghiệp](https://drive.google.com/file/d/1-ii                                   \n",
       "</pre>\n"
      ],
      "text/plain": [
       ". Phần 5: Các Dự Án Tín Chỉ Carbon Tự Nhiên/14. Chapter 14: Agricultural Land Management (ALM)/Tín chỉ carbon, cơ  \n",
       "hội và thách thức cho sản xuất nông nghiệp](https://drive.google.com/file/d/1-ii                                   \n"
      ]
     },
     "metadata": {},
     "output_type": "display_data"
    },
    {
     "data": {
      "text/html": [
       "<pre style=\"white-space:pre;overflow-x:auto;line-height:normal;font-family:Menlo,'DejaVu Sans Mono',consolas,'Courier New',monospace\">7AI7Iv-H3VMaQso5wvEctzobpokcJoy5UhHMkCMg/view?usp=sharing)). Ngân hàng Thế giới cam kết chi trả 10 USD/tín chỉ     \n",
       "carbon từ trồng lúa giảm phát thải ở ĐBSCL [https                                                                  \n",
       "</pre>\n"
      ],
      "text/plain": [
       "7AI7Iv-H3VMaQso5wvEctzobpokcJoy5UhHMkCMg/view?usp=sharing)). Ngân hàng Thế giới cam kết chi trả 10 USD/tín chỉ     \n",
       "carbon từ trồng lúa giảm phát thải ở ĐBSCL [https                                                                  \n"
      ]
     },
     "metadata": {},
     "output_type": "display_data"
    },
    {
     "data": {
      "text/html": [
       "<pre style=\"white-space:pre;overflow-x:auto;line-height:normal;font-family:Menlo,'DejaVu Sans Mono',consolas,'Courier New',monospace\">://vietnamnet.vn/trong-lua-de-ban-duoc-10-usd-tin-chi-carbon-phai-theo-quy-trinh-nghiem-ngat-2277094.html](https://\n",
       "vietnamnet.vn/trong                                                                                                \n",
       "</pre>\n"
      ],
      "text/plain": [
       "://vietnamnet.vn/trong-lua-de-ban-duoc-10-usd-tin-chi-carbon-phai-theo-quy-trinh-nghiem-ngat-2277094.html](https://\n",
       "vietnamnet.vn/trong                                                                                                \n"
      ]
     },
     "metadata": {},
     "output_type": "display_data"
    },
    {
     "data": {
      "text/html": [
       "<pre style=\"white-space:pre;overflow-x:auto;line-height:normal;font-family:Menlo,'DejaVu Sans Mono',consolas,'Courier New',monospace\">-lua-de-ban-duoc-10-usd-tin-chi-carbon-phai-theo-quy-trinh-nghiem-ngat-2277094.html).                              \n",
       "\n",
       "<span style=\"font-weight: bold\">Các yếu tố quan trọng:</span>                                                                                             \n",
       "\n",
       "<span style=\"color: #808000; text-decoration-color: #808000; font-weight: bold\"> • </span>**Tính \"bổ                                                                                                      \n",
       "</pre>\n"
      ],
      "text/plain": [
       "-lua-de-ban-duoc-10-usd-tin-chi-carbon-phai-theo-quy-trinh-nghiem-ngat-2277094.html).                              \n",
       "\n",
       "\u001b[1mCác yếu tố quan trọng:\u001b[0m                                                                                             \n",
       "\n",
       "\u001b[1;33m • \u001b[0m**Tính \"bổ                                                                                                      \n"
      ]
     },
     "metadata": {},
     "output_type": "display_data"
    },
    {
     "data": {
      "text/html": [
       "<pre style=\"white-space:pre;overflow-x:auto;line-height:normal;font-family:Menlo,'DejaVu Sans Mono',consolas,'Courier New',monospace\">sung\" (Additionality):** Cần chứng minh rằng dự án giảm phát thải không thể thực hiện được nếu không có nguồn thu  \n",
       "từ tín chỉ carbon.  Điều này có nghĩa là, việc áp dụng các biện pháp giảm phát thải phải là \"bổ sung\" so với hoạt  \n",
       "động thông thường.                                                                                                 \n",
       "\n",
       "<span style=\"color: #808000; text-decoration-color: #808000\">───────────────────────────────────────────────────────────────────────────────────────────────────────────────────</span>\n",
       "</pre>\n"
      ],
      "text/plain": [
       "sung\" (Additionality):** Cần chứng minh rằng dự án giảm phát thải không thể thực hiện được nếu không có nguồn thu  \n",
       "từ tín chỉ carbon.  Điều này có nghĩa là, việc áp dụng các biện pháp giảm phát thải phải là \"bổ sung\" so với hoạt  \n",
       "động thông thường.                                                                                                 \n",
       "\n",
       "\u001b[33m───────────────────────────────────────────────────────────────────────────────────────────────────────────────────\u001b[0m\n"
      ]
     },
     "metadata": {},
     "output_type": "display_data"
    },
    {
     "data": {
      "text/html": [
       "<pre style=\"white-space:pre;overflow-x:auto;line-height:normal;font-family:Menlo,'DejaVu Sans Mono',consolas,'Courier New',monospace\">Tính minh bạch và chính xác:**  Quá trình đo đạc, báo cáo và xác minh (MRV) phải đảm bảo tính minh bạch và chính   \n",
       "xác của dữ liệu.                                                                                                   \n",
       "\n",
       "<span style=\"color: #808000; text-decoration-color: #808000; font-weight: bold\"> • </span><span style=\"font-weight: bold\">Sự tham gia của các bên liên quan:</span>  Cần có sự tham gia của các bên liên quan,                                   \n",
       "</pre>\n"
      ],
      "text/plain": [
       "Tính minh bạch và chính xác:**  Quá trình đo đạc, báo cáo và xác minh (MRV) phải đảm bảo tính minh bạch và chính   \n",
       "xác của dữ liệu.                                                                                                   \n",
       "\n",
       "\u001b[1;33m • \u001b[0m\u001b[1mSự tham gia của các bên liên quan:\u001b[0m  Cần có sự tham gia của các bên liên quan,                                   \n"
      ]
     },
     "metadata": {},
     "output_type": "display_data"
    },
    {
     "data": {
      "text/html": [
       "<pre style=\"white-space:pre;overflow-x:auto;line-height:normal;font-family:Menlo,'DejaVu Sans Mono',consolas,'Courier New',monospace\">bao gồm nông dân, doanh nghiệp, chính quyền địa phương và các tổ chức chứng nhận.                                  \n",
       "\n",
       "<span style=\"font-weight: bold\">Thông tin thêm:</span>                                                                                                    \n",
       "\n",
       "<span style=\"color: #808000; text-decoration-color: #808000; font-weight: bold\"> • </span>Chương trình hợp tác nhằm phát hành tín chỉ carbon trong sản xuất lúa đang được triển khai thí điểm tại một số  \n",
       "<span style=\"color: #808000; text-decoration-color: #808000; font-weight: bold\">   </span>tỉnh ở Việt Nam [https://vaas.vn/                                                                               \n",
       "</pre>\n"
      ],
      "text/plain": [
       "bao gồm nông dân, doanh nghiệp, chính quyền địa phương và các tổ chức chứng nhận.                                  \n",
       "\n",
       "\u001b[1mThông tin thêm:\u001b[0m                                                                                                    \n",
       "\n",
       "\u001b[1;33m • \u001b[0mChương trình hợp tác nhằm phát hành tín chỉ carbon trong sản xuất lúa đang được triển khai thí điểm tại một số  \n",
       "\u001b[1;33m   \u001b[0mtỉnh ở Việt Nam [https://vaas.vn/                                                                               \n"
      ]
     },
     "metadata": {},
     "output_type": "display_data"
    },
    {
     "data": {
      "text/html": [
       "<pre style=\"white-space:pre;overflow-x:auto;line-height:normal;font-family:Menlo,'DejaVu Sans Mono',consolas,'Courier New',monospace\">vi/hop-tac-quoc-te/tao-tin-chi-carbon-trong-san-xuat-lua-cho-vung-bac-trung-bo](https://vaas.vn/vi/hop-tac-quoc-te/\n",
       "tao-tin-chi-                                                                                                       \n",
       "</pre>\n"
      ],
      "text/plain": [
       "vi/hop-tac-quoc-te/tao-tin-chi-carbon-trong-san-xuat-lua-cho-vung-bac-trung-bo](https://vaas.vn/vi/hop-tac-quoc-te/\n",
       "tao-tin-chi-                                                                                                       \n"
      ]
     },
     "metadata": {},
     "output_type": "display_data"
    },
    {
     "data": {
      "text/html": [
       "<pre style=\"white-space:pre;overflow-x:auto;line-height:normal;font-family:Menlo,'DejaVu Sans Mono',consolas,'Courier New',monospace\">carbon-trong-san-xuat-lua-cho-vung-bac-trung-bo).                                                                  \n",
       "\n",
       "<span style=\"color: #808000; text-decoration-color: #808000; font-weight: bold\"> • </span>Để tạo ra tín chỉ carbon, cần áp dụng một hoặc nhiều giải pháp giảm phát thải KNK so với cách làm thông thường. \n",
       "\n",
       "Hy vọng thông tin này hữu ích cho bạn.                                                                             \n",
       "</pre>\n"
      ],
      "text/plain": [
       "carbon-trong-san-xuat-lua-cho-vung-bac-trung-bo).                                                                  \n",
       "\n",
       "\u001b[1;33m • \u001b[0mĐể tạo ra tín chỉ carbon, cần áp dụng một hoặc nhiều giải pháp giảm phát thải KNK so với cách làm thông thường. \n",
       "\n",
       "Hy vọng thông tin này hữu ích cho bạn.                                                                             \n"
      ]
     },
     "metadata": {},
     "output_type": "display_data"
    },
    {
     "data": {
      "text/html": [
       "<pre style=\"white-space:pre;overflow-x:auto;line-height:normal;font-family:Menlo,'DejaVu Sans Mono',consolas,'Courier New',monospace\">Nếu bạn có bất kỳ câu hỏi nào khác, xin vui lòng cho tôi biết.                                                     \n",
       "</pre>\n"
      ],
      "text/plain": [
       "Nếu bạn có bất kỳ câu hỏi nào khác, xin vui lòng cho tôi biết.                                                     \n"
      ]
     },
     "metadata": {},
     "output_type": "display_data"
    }
   ],
   "source": [
    "\n",
    "from rich.console import Console\n",
    "from rich.markdown import Markdown\n",
    "console = Console()\n",
    "async for tok in res:\n",
    "    console.print(Markdown(tok))"
   ]
  },
  {
   "cell_type": "code",
   "execution_count": 30,
   "metadata": {},
   "outputs": [],
   "source": [
    "def query_for_file2(user_query: str, top_k: int = 3):\n",
    "    \"\"\"\n",
    "    Query the vector store for file info (summaries) and return the top_k file_paths.\n",
    "    \"\"\"\n",
    "    query_res = query_vectorstore(file_info_vectorstore, user_query, top_k)\n",
    "\n",
    "    file_paths = [doc.page_content for doc in query_res]\n",
    "    return file_paths, query_res\n",
    "\n",
    "_, res = query_for_file2(user_query)"
   ]
  },
  {
   "cell_type": "code",
   "execution_count": null,
   "metadata": {},
   "outputs": [
    {
     "name": "stdout",
     "output_type": "stream",
     "text": [
      "https://drive.google.com/file/d/1Ih5sqGPEYLULomCAvbAAycOZ6Zkf8TfE/view?usp=sharing\n",
      "https://drive.google.com/file/d/1GkOt1L8ii_E2gmebpCtgwo_jZdzoqhaMqUIGWwB-HNY/view?usp=sharing\n",
      "https://drive.google.com/file/d/1-ii7AI7Iv-H3VMaQso5wvEctzobpokcJoy5UhHMkCMg/view?usp=sharing\n"
     ]
    }
   ],
   "source": [
    "for doc in res:"
   ]
  },
  {
   "cell_type": "code",
   "execution_count": null,
   "metadata": {},
   "outputs": [
    {
     "ename": "TypeError",
     "evalue": "Input data should be a string, not <class 'async_generator'>",
     "output_type": "error",
     "traceback": [
      "\u001b[0;31m---------------------------------------------------------------------------\u001b[0m",
      "\u001b[0;31mTypeError\u001b[0m                                 Traceback (most recent call last)",
      "Cell \u001b[0;32mIn[42], line 5\u001b[0m\n\u001b[1;32m      2\u001b[0m \u001b[38;5;28;01mfrom\u001b[39;00m\u001b[38;5;250m \u001b[39m\u001b[38;5;21;01mrich\u001b[39;00m\u001b[38;5;21;01m.\u001b[39;00m\u001b[38;5;21;01mmarkdown\u001b[39;00m\u001b[38;5;250m \u001b[39m\u001b[38;5;28;01mimport\u001b[39;00m Markdown\n\u001b[1;32m      3\u001b[0m console \u001b[38;5;241m=\u001b[39m Console()\n\u001b[0;32m----> 5\u001b[0m console\u001b[38;5;241m.\u001b[39mprint(\u001b[43mMarkdown\u001b[49m\u001b[43m(\u001b[49m\u001b[43mres\u001b[49m\u001b[43m)\u001b[49m)\n",
      "File \u001b[0;32m/mnt/e/TOM/Learning/Projects/chatbots/tccv_education/.venv/lib/python3.10/site-packages/rich/markdown.py:551\u001b[0m, in \u001b[0;36mMarkdown.__init__\u001b[0;34m(self, markup, code_theme, justify, style, hyperlinks, inline_code_lexer, inline_code_theme)\u001b[0m\n\u001b[1;32m    549\u001b[0m parser \u001b[38;5;241m=\u001b[39m MarkdownIt()\u001b[38;5;241m.\u001b[39menable(\u001b[38;5;124m\"\u001b[39m\u001b[38;5;124mstrikethrough\u001b[39m\u001b[38;5;124m\"\u001b[39m)\u001b[38;5;241m.\u001b[39menable(\u001b[38;5;124m\"\u001b[39m\u001b[38;5;124mtable\u001b[39m\u001b[38;5;124m\"\u001b[39m)\n\u001b[1;32m    550\u001b[0m \u001b[38;5;28mself\u001b[39m\u001b[38;5;241m.\u001b[39mmarkup \u001b[38;5;241m=\u001b[39m markup\n\u001b[0;32m--> 551\u001b[0m \u001b[38;5;28mself\u001b[39m\u001b[38;5;241m.\u001b[39mparsed \u001b[38;5;241m=\u001b[39m \u001b[43mparser\u001b[49m\u001b[38;5;241;43m.\u001b[39;49m\u001b[43mparse\u001b[49m\u001b[43m(\u001b[49m\u001b[43mmarkup\u001b[49m\u001b[43m)\u001b[49m\n\u001b[1;32m    552\u001b[0m \u001b[38;5;28mself\u001b[39m\u001b[38;5;241m.\u001b[39mcode_theme \u001b[38;5;241m=\u001b[39m code_theme\n\u001b[1;32m    553\u001b[0m \u001b[38;5;28mself\u001b[39m\u001b[38;5;241m.\u001b[39mjustify: JustifyMethod \u001b[38;5;241m|\u001b[39m \u001b[38;5;28;01mNone\u001b[39;00m \u001b[38;5;241m=\u001b[39m justify\n",
      "File \u001b[0;32m/mnt/e/TOM/Learning/Projects/chatbots/tccv_education/.venv/lib/python3.10/site-packages/markdown_it/main.py:274\u001b[0m, in \u001b[0;36mMarkdownIt.parse\u001b[0;34m(self, src, env)\u001b[0m\n\u001b[1;32m    272\u001b[0m     \u001b[38;5;28;01mraise\u001b[39;00m \u001b[38;5;167;01mTypeError\u001b[39;00m(\u001b[38;5;124mf\u001b[39m\u001b[38;5;124m\"\u001b[39m\u001b[38;5;124mInput data should be a MutableMapping, not \u001b[39m\u001b[38;5;132;01m{\u001b[39;00m\u001b[38;5;28mtype\u001b[39m(env)\u001b[38;5;132;01m}\u001b[39;00m\u001b[38;5;124m\"\u001b[39m)\n\u001b[1;32m    273\u001b[0m \u001b[38;5;28;01mif\u001b[39;00m \u001b[38;5;129;01mnot\u001b[39;00m \u001b[38;5;28misinstance\u001b[39m(src, \u001b[38;5;28mstr\u001b[39m):\n\u001b[0;32m--> 274\u001b[0m     \u001b[38;5;28;01mraise\u001b[39;00m \u001b[38;5;167;01mTypeError\u001b[39;00m(\u001b[38;5;124mf\u001b[39m\u001b[38;5;124m\"\u001b[39m\u001b[38;5;124mInput data should be a string, not \u001b[39m\u001b[38;5;132;01m{\u001b[39;00m\u001b[38;5;28mtype\u001b[39m(src)\u001b[38;5;132;01m}\u001b[39;00m\u001b[38;5;124m\"\u001b[39m)\n\u001b[1;32m    275\u001b[0m state \u001b[38;5;241m=\u001b[39m StateCore(src, \u001b[38;5;28mself\u001b[39m, env)\n\u001b[1;32m    276\u001b[0m \u001b[38;5;28mself\u001b[39m\u001b[38;5;241m.\u001b[39mcore\u001b[38;5;241m.\u001b[39mprocess(state)\n",
      "\u001b[0;31mTypeError\u001b[0m: Input data should be a string, not <class 'async_generator'>"
     ]
    }
   ],
   "source": []
  },
  {
   "cell_type": "code",
   "execution_count": null,
   "metadata": {},
   "outputs": [
    {
     "ename": "ImportError",
     "evalue": "cannot import name 'markdown_to_custom_html' from 'pipeline.utils' (/mnt/e/TOM/Learning/Projects/chatbots/tccv_education/pipeline/utils.py)",
     "output_type": "error",
     "traceback": [
      "\u001b[0;31m---------------------------------------------------------------------------\u001b[0m",
      "\u001b[0;31mImportError\u001b[0m                               Traceback (most recent call last)",
      "Cell \u001b[0;32mIn[76], line 1\u001b[0m\n\u001b[0;32m----> 1\u001b[0m \u001b[38;5;28;01mfrom\u001b[39;00m\u001b[38;5;250m \u001b[39m\u001b[38;5;21;01mpipeline\u001b[39;00m\u001b[38;5;21;01m.\u001b[39;00m\u001b[38;5;21;01mutils\u001b[39;00m\u001b[38;5;250m \u001b[39m\u001b[38;5;28;01mimport\u001b[39;00m markdown_to_custom_html\n\u001b[1;32m      2\u001b[0m markdown_to_custom_html(res)\n",
      "\u001b[0;31mImportError\u001b[0m: cannot import name 'markdown_to_custom_html' from 'pipeline.utils' (/mnt/e/TOM/Learning/Projects/chatbots/tccv_education/pipeline/utils.py)"
     ]
    }
   ],
   "source": [
    "from pipeline.utils import markdown_to_custom_html"
   ]
  }
 ],
 "metadata": {
  "kernelspec": {
   "display_name": ".venv",
   "language": "python",
   "name": "python3"
  },
  "language_info": {
   "codemirror_mode": {
    "name": "ipython",
    "version": 3
   },
   "file_extension": ".py",
   "mimetype": "text/x-python",
   "name": "python",
   "nbconvert_exporter": "python",
   "pygments_lexer": "ipython3",
   "version": "3.10.12"
  }
 },
 "nbformat": 4,
 "nbformat_minor": 2
}
